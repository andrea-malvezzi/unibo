{
 "cells": [
  {
   "cell_type": "markdown",
   "id": "912b455c-e8cf-4c4a-a46b-4d14ca61ebce",
   "metadata": {},
   "source": [
    "# Bisezione, Punto Fisso e Newton"
   ]
  },
  {
   "cell_type": "markdown",
   "id": "829130ff-42ec-4089-99b8-4686f1bce4a9",
   "metadata": {},
   "source": [
    "In questo notebook troverai il codice per utilizzare questi tre algoritmi di calcolo delle radici di una funzione non lineare."
   ]
  },
  {
   "cell_type": "markdown",
   "id": "906cb61e-32b5-42f1-8d58-5dd88d5154e3",
   "metadata": {
    "jp-MarkdownHeadingCollapsed": true
   },
   "source": [
    "## Bisezione"
   ]
  },
  {
   "attachments": {},
   "cell_type": "markdown",
   "id": "9bde83a6-e10a-405c-9891-8f3bcbd03625",
   "metadata": {},
   "source": [
    "La bisezione si basa sullo scegliere un intervallo $[a, b]$, ricavarne il punto medio e capire in quale dei due intervalli trovati si abbia una radice, per poi ripetere fino ad avvicinarsi sempre di più allo zero, in modo da avere un'approssimazione sempre più accurata del risultato desiderato.  \n",
    "Capire in quale intervallo si trovi la radice significa applicare Weierstrass sugli estremi dei due intervalli trovati, per poi decidere su quale operare."
   ]
  },
  {
   "cell_type": "markdown",
   "id": "538a4815-a89f-4f48-9d5e-36e3022e14e9",
   "metadata": {},
   "source": [
    "Quindi, avendo un intervallo $[a, b]$ ed un numero massimo di passi $N$, significa fare:  \n",
    "```\n",
    "for i in range(N):\n",
    "    c = (a + b) / 2\n",
    "    if f(a) * f(c) < 0:\n",
    "        b = c\n",
    "    else:\n",
    "        a = c\n",
    "```"
   ]
  },
  {
   "cell_type": "markdown",
   "id": "6d6b8732-7da0-4c98-99e9-a579d7e8cb3f",
   "metadata": {},
   "source": [
    "Nel caso si volesse invece implementare un criterio di arresto basato sulla stima dell'errore, con errore totale passato in input nella forma di $E_{tol}$ , (la tolleranza) occorrerebbe calcolare un $E_{max}= \\frac{b - a}{2}$ ed accertarsi ad ogni iterazione che quest'ultimo non ecceda quello passato in input. Ovvero:\n",
    "```\n",
    "# per evitare errori di mancato assegnamento\n",
    "Emax == (b - a)/2\n",
    "\n",
    "while Emax > Etol:\n",
    "    c = (a + b) / 2\n",
    "    if f(a)*f(c) < 0:\n",
    "        b = c\n",
    "    else:\n",
    "        a = c\n",
    "    Emax = (b - a)/2\n",
    "```\n",
    "Al termine del codice, l'algoritmo dovrebbe ritornare la radice trovata e l'errore trovato."
   ]
  },
  {
   "cell_type": "markdown",
   "id": "dabf0817-f2dc-4544-9a1f-69cdbb171c09",
   "metadata": {},
   "source": [
    "### Esempio pratico"
   ]
  },
  {
   "cell_type": "markdown",
   "id": "a3c3ae56-1d29-4cc6-a1fc-7e2bdf885c5d",
   "metadata": {},
   "source": [
    "Ipotizziamo di voler calcolare una radice della funzione $f(x) = x^2 - 2$, all'interno dell'intervallo $[0, 2]$, imponendo una tolleranza $E_{tol} = 0,01$. Allora scriveremmo:"
   ]
  },
  {
   "cell_type": "code",
   "execution_count": 1,
   "id": "8bd095dd-1ceb-43ac-a1e7-3bc500f48b59",
   "metadata": {},
   "outputs": [],
   "source": [
    "from typing import Callable, Tuple  # per type safety, non obbligatorio :)\n",
    "\n",
    "# definiamo una funzione per riutilizzare il codice di Bisezione\n",
    "def bisezione(f : Callable[[float], float], a : float, b : float, tol : float) -> Tuple[float, float]:\n",
    "    \"\"\"\n",
    "    parameters:\n",
    "    - f: funzione che accetta in input un float e ne ritorna un altro\n",
    "    - a: minimo dell'intervallo in cui si vuole lavorare\n",
    "    - b: massimo dell'intervallo in cui si vuole lavorare\n",
    "    - tol: la tolleranza dell'errore\n",
    "\n",
    "    returns:\n",
    "    una tupla contenente la radice della funzione trovata e l'errore massimo trovato\n",
    "    \"\"\"\n",
    "    c = 0.\n",
    "    emax = (b - a) / 2\n",
    "    \n",
    "    while emax > tol:\n",
    "        c = (a + b) / 2\n",
    "        if f(a)*f(c) < 0:\n",
    "            b = c\n",
    "        else:\n",
    "            a = c\n",
    "        emax = (b - a) / 2\n",
    "\n",
    "    return (c, emax)"
   ]
  },
  {
   "cell_type": "raw",
   "id": "845f683c-b818-4a55-b8e8-01015c1c3ea3",
   "metadata": {},
   "source": [
    "Ora, per testare la nostra funzione:"
   ]
  },
  {
   "cell_type": "code",
   "execution_count": 2,
   "id": "eff33ec6-c5da-4871-a69b-e4d554e6e7cc",
   "metadata": {},
   "outputs": [
    {
     "data": {
      "text/plain": [
       "(1.421875, 0.0078125)"
      ]
     },
     "execution_count": 2,
     "metadata": {},
     "output_type": "execute_result"
    }
   ],
   "source": [
    "f = lambda x : x**2 - 2\n",
    "a = 0; b = 2\n",
    "etol = 0.01\n",
    "bisezione(f, a, b, etol)"
   ]
  },
  {
   "cell_type": "markdown",
   "id": "f270daad-23a8-4106-877d-bd434a507bfb",
   "metadata": {},
   "source": [
    "#### Giochiamo con i valori"
   ]
  },
  {
   "cell_type": "markdown",
   "id": "fff719ba-cfef-45ea-898a-cc562be908c1",
   "metadata": {},
   "source": [
    "E se modificassimo la tolleranza, passando da $0.01$ a $0.001$? E se invece di $[0, 2]$ prendessimo come intervallo $[2, 4]$? Cosa accadrebbe?"
   ]
  },
  {
   "cell_type": "code",
   "execution_count": 3,
   "id": "0be2540f-4c47-4967-96a9-29b5b4868a6d",
   "metadata": {},
   "outputs": [
    {
     "data": {
      "text/plain": [
       "(1.416015625, 0.0009765625)"
      ]
     },
     "execution_count": 3,
     "metadata": {},
     "output_type": "execute_result"
    }
   ],
   "source": [
    "etol = 0.001\n",
    "bisezione(f, a, b, etol)"
   ]
  },
  {
   "cell_type": "code",
   "execution_count": 4,
   "id": "5847bb5c-5f52-498b-93b6-eba68b11a388",
   "metadata": {},
   "outputs": [
    {
     "data": {
      "text/plain": [
       "(3.998046875, 0.0009765625)"
      ]
     },
     "execution_count": 4,
     "metadata": {},
     "output_type": "execute_result"
    }
   ],
   "source": [
    "a = 2; b = 4\n",
    "bisezione(f, a, b, etol)"
   ]
  },
  {
   "cell_type": "markdown",
   "id": "4586fa6e-3663-405c-91d4-9dcb3b0c3c1b",
   "metadata": {},
   "source": [
    "## Punto Fisso"
   ]
  },
  {
   "cell_type": "code",
   "execution_count": null,
   "id": "3bf7648a-e42d-48ee-97d7-6d5b866c4b19",
   "metadata": {},
   "outputs": [],
   "source": []
  }
 ],
 "metadata": {
  "kernelspec": {
   "display_name": "Python 3 (ipykernel)",
   "language": "python",
   "name": "python3"
  },
  "language_info": {
   "codemirror_mode": {
    "name": "ipython",
    "version": 3
   },
   "file_extension": ".py",
   "mimetype": "text/x-python",
   "name": "python",
   "nbconvert_exporter": "python",
   "pygments_lexer": "ipython3",
   "version": "3.13.5"
  }
 },
 "nbformat": 4,
 "nbformat_minor": 5
}
