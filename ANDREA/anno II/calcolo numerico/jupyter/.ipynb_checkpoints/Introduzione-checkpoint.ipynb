{
 "cells": [
  {
   "cell_type": "markdown",
   "id": "7b3da547-4b4b-4c5b-9f74-31d758af461a",
   "metadata": {},
   "source": [
    "Clicca ESC + M mentre hai il focus su una cella per farla passara da \"di codice\" a \"di markdown\"!  \n",
    "Clicca A per aggiungere una cella prima di quella focused.  \n",
    "Clicca B per aggiungerla dopo.  \n",
    "Clicca due volte D per cancellare una cella.  \n",
    "Clicca ENTER per focusare una cella dopo averla aggiunta.  "
   ]
  },
  {
   "cell_type": "markdown",
   "id": "16307ce1-4409-48da-b341-d7c56c340431",
   "metadata": {},
   "source": []
  },
  {
   "cell_type": "code",
   "execution_count": null,
   "id": "9bb9025e-bd66-4344-916e-d4dfa7ad3c46",
   "metadata": {},
   "outputs": [],
   "source": []
  }
 ],
 "metadata": {
  "kernelspec": {
   "display_name": "Python 3 (ipykernel)",
   "language": "python",
   "name": "python3"
  },
  "language_info": {
   "codemirror_mode": {
    "name": "ipython",
    "version": 3
   },
   "file_extension": ".py",
   "mimetype": "text/x-python",
   "name": "python",
   "nbconvert_exporter": "python",
   "pygments_lexer": "ipython3",
   "version": "3.13.5"
  }
 },
 "nbformat": 4,
 "nbformat_minor": 5
}
